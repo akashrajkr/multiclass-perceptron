{
 "cells": [
  {
   "cell_type": "code",
   "execution_count": 1,
   "metadata": {},
   "outputs": [],
   "source": [
    "import os\n",
    "import glob\n",
    "import random\n",
    "import pickle"
   ]
  },
  {
   "cell_type": "code",
   "execution_count": 2,
   "metadata": {},
   "outputs": [],
   "source": [
    "# Getting directories\n",
    "dirs = [name for name in glob.glob('dataset/*') if os.path.isdir(name)]"
   ]
  },
  {
   "cell_type": "code",
   "execution_count": 3,
   "metadata": {},
   "outputs": [],
   "source": [
    "# Preparing classes based on directory names where the images are stored\n",
    "classes = []\n",
    "for d in dirs:\n",
    "    classes.append(d.split('/')[1])"
   ]
  },
  {
   "cell_type": "code",
   "execution_count": 4,
   "metadata": {},
   "outputs": [],
   "source": [
    "# Preparing feature dataset in the form of list,tuple,dictionary  [(classname,{path:'actual_path_to_png_files'})]\n",
    "feature_data = []\n",
    "for d in dirs:\n",
    "    paths = glob.glob(d+'/*.png')\n",
    "    curr_class = d.split('/')[1]\n",
    "    for path in paths:\n",
    "        feature = {}\n",
    "        feature['path'] = path\n",
    "        feature_data.append((curr_class,feature))\n",
    "# print(feature_data)"
   ]
  },
  {
   "cell_type": "code",
   "execution_count": 5,
   "metadata": {},
   "outputs": [],
   "source": [
    "random.shuffle(feature_data)"
   ]
  },
  {
   "cell_type": "code",
   "execution_count": 6,
   "metadata": {},
   "outputs": [],
   "source": [
    "# Saving data\n",
    "with open('feature_data.pkl', 'wb') as f:\n",
    "    pickle.dump(feature_data, f)\n",
    "with open('classes.pkl', 'wb') as f:\n",
    "    pickle.dump(classes, f)"
   ]
  }
 ],
 "metadata": {
  "kernelspec": {
   "display_name": "Python 3",
   "language": "python",
   "name": "python3"
  },
  "language_info": {
   "codemirror_mode": {
    "name": "ipython",
    "version": 3
   },
   "file_extension": ".py",
   "mimetype": "text/x-python",
   "name": "python",
   "nbconvert_exporter": "python",
   "pygments_lexer": "ipython3",
   "version": "3.7.3"
  }
 },
 "nbformat": 4,
 "nbformat_minor": 2
}
