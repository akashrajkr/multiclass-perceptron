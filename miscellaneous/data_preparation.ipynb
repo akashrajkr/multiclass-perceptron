{
 "cells": [
  {
   "cell_type": "code",
   "execution_count": 1,
   "metadata": {},
   "outputs": [],
   "source": [
    "import os\n",
    "import glob\n",
    "import random\n",
    "import pickle"
   ]
  },
  {
   "cell_type": "code",
   "execution_count": 10,
   "metadata": {},
   "outputs": [
    {
     "data": {
      "text/plain": [
       "['dataset/covid', 'dataset/normal']"
      ]
     },
     "execution_count": 10,
     "metadata": {},
     "output_type": "execute_result"
    }
   ],
   "source": [
    "# Getting directories\n",
    "dirs = [name for name in glob.glob('dataset/*') if os.path.isdir(name)]\n",
    "dirs"
   ]
  },
  {
   "cell_type": "code",
   "execution_count": 3,
   "metadata": {},
   "outputs": [],
   "source": [
    "# Preparing classes based on directory names where the images are stored\n",
    "classes = []\n",
    "for d in dirs:\n",
    "    classes.append(d.split('/')[1])"
   ]
  },
  {
   "cell_type": "code",
   "execution_count": 4,
   "metadata": {},
   "outputs": [
    {
     "data": {
      "text/plain": [
       "['covid', 'normal']"
      ]
     },
     "execution_count": 4,
     "metadata": {},
     "output_type": "execute_result"
    }
   ],
   "source": [
    "classes"
   ]
  },
  {
   "cell_type": "code",
   "execution_count": 15,
   "metadata": {},
   "outputs": [
    {
     "name": "stdout",
     "output_type": "stream",
     "text": [
      "50\n"
     ]
    },
    {
     "data": {
      "text/plain": [
       "[('covid', {'path': 'dataset/covid/1-s2.0-S0929664620300449-gr2_lrg-c.jpg'}),\n",
       " ('covid', {'path': 'dataset/covid/1-s2.0-S0929664620300449-gr2_lrg-d.jpg'}),\n",
       " ('covid', {'path': 'dataset/covid/radiopedia-covid-19-pneumonia-2.jpg'}),\n",
       " ('covid', {'path': 'dataset/covid/lancet-case2b.jpg'}),\n",
       " ('covid', {'path': 'dataset/covid/lancet-case2a.jpg'}),\n",
       " ('covid', {'path': 'dataset/covid/1-s2.0-S0929664620300449-gr2_lrg-a.jpg'}),\n",
       " ('covid', {'path': 'dataset/covid/1-s2.0-S0929664620300449-gr2_lrg-b.jpg'}),\n",
       " ('covid', {'path': 'dataset/covid/1-s2.0-S0140673620303706-fx1_lrg.jpg'}),\n",
       " ('covid', {'path': 'dataset/covid/ryct.2020200034.fig2.jpeg'}),\n",
       " ('covid', {'path': 'dataset/covid/nCoV-radiol.2020200269.fig1-day7.jpeg'}),\n",
       " ('covid',\n",
       "  {'path': 'dataset/covid/auntminnie-c-2020_01_28_23_51_6665_2020_01_28_Vietnam_coronavirus.jpeg'}),\n",
       " ('covid', {'path': 'dataset/covid/nejmc2001573_f1a.jpeg'}),\n",
       " ('covid', {'path': 'dataset/covid/nejmc2001573_f1b.jpeg'}),\n",
       " ('covid', {'path': 'dataset/covid/nejmoa2001191_f1-PA.jpeg'}),\n",
       " ('covid',\n",
       "  {'path': 'dataset/covid/auntminnie-b-2020_01_28_23_51_6665_2020_01_28_Vietnam_coronavirus.jpeg'}),\n",
       " ('covid', {'path': 'dataset/covid/ryct.2020200034.fig5-day0.jpeg'}),\n",
       " ('covid', {'path': 'dataset/covid/radiol.2020200490.fig3.jpeg'}),\n",
       " ('covid', {'path': 'dataset/covid/ryct.2020200028.fig1a.jpeg'}),\n",
       " ('covid', {'path': 'dataset/covid/ryct.2020200034.fig5-day4.jpeg'}),\n",
       " ('covid',\n",
       "  {'path': 'dataset/covid/auntminnie-d-2020_01_28_23_51_6665_2020_01_28_Vietnam_coronavirus.jpeg'}),\n",
       " ('covid', {'path': 'dataset/covid/nejmoa2001191_f4.jpeg'}),\n",
       " ('covid', {'path': 'dataset/covid/nejmoa2001191_f3-PA.jpeg'}),\n",
       " ('covid', {'path': 'dataset/covid/nejmoa2001191_f5-PA.jpeg'}),\n",
       " ('covid',\n",
       "  {'path': 'dataset/covid/auntminnie-a-2020_01_28_23_51_6665_2020_01_28_Vietnam_coronavirus.jpeg'}),\n",
       " ('covid', {'path': 'dataset/covid/ryct.2020200034.fig5-day7.jpeg'}),\n",
       " ('normal', {'path': 'dataset/normal/person378_virus_761.jpeg'}),\n",
       " ('normal', {'path': 'dataset/normal/person612_bacteria_2478.jpeg'}),\n",
       " ('normal', {'path': 'dataset/normal/person1290_virus_2215.jpeg'}),\n",
       " ('normal', {'path': 'dataset/normal/NORMAL2-IM-0869-0001.jpeg'}),\n",
       " ('normal', {'path': 'dataset/normal/person939_bacteria_2864.jpeg'}),\n",
       " ('normal', {'path': 'dataset/normal/person525_bacteria_2216.jpeg'}),\n",
       " ('normal', {'path': 'dataset/normal/NORMAL2-IM-1179-0001.jpeg'}),\n",
       " ('normal', {'path': 'dataset/normal/person989_virus_1667.jpeg'}),\n",
       " ('normal', {'path': 'dataset/normal/person925_virus_1582.jpeg'}),\n",
       " ('normal', {'path': 'dataset/normal/person1935_bacteria_4849.jpeg'}),\n",
       " ('normal', {'path': 'dataset/normal/IM-0033-0001-0001.jpeg'}),\n",
       " ('normal', {'path': 'dataset/normal/person339_bacteria_1574.jpeg'}),\n",
       " ('normal', {'path': 'dataset/normal/NORMAL2-IM-0315-0001.jpeg'}),\n",
       " ('normal', {'path': 'dataset/normal/person1830_bacteria_4693.jpeg'}),\n",
       " ('normal', {'path': 'dataset/normal/person1599_virus_2776.jpeg'}),\n",
       " ('normal', {'path': 'dataset/normal/person934_virus_1595.jpeg'}),\n",
       " ('normal', {'path': 'dataset/normal/IM-0466-0001.jpeg'}),\n",
       " ('normal', {'path': 'dataset/normal/person438_bacteria_1893.jpeg'}),\n",
       " ('normal', {'path': 'dataset/normal/person259_bacteria_1220.jpeg'}),\n",
       " ('normal', {'path': 'dataset/normal/NORMAL2-IM-0696-0001.jpeg'}),\n",
       " ('normal', {'path': 'dataset/normal/IM-0240-0001.jpeg'}),\n",
       " ('normal', {'path': 'dataset/normal/person1_bacteria_2.jpeg'}),\n",
       " ('normal', {'path': 'dataset/normal/person1558_bacteria_4066.jpeg'}),\n",
       " ('normal', {'path': 'dataset/normal/person651_bacteria_2543.jpeg'}),\n",
       " ('normal', {'path': 'dataset/normal/person1102_bacteria_3043.jpeg'})]"
      ]
     },
     "execution_count": 15,
     "metadata": {},
     "output_type": "execute_result"
    }
   ],
   "source": [
    "# Preparing feature dataset in the form of list,tuple,dictionary  [(classname,{path:'actual_path_to_png_files'})]\n",
    "feature_data = []\n",
    "for d in dirs:\n",
    "    paths = glob.glob(d+'/*.jpg')\n",
    "    paths.extend(glob.glob(d+'/*.jpeg'))\n",
    "    curr_class = d.split('/')[1]\n",
    "    for path in paths:\n",
    "        feature = {}\n",
    "        feature['path'] = path\n",
    "        feature_data.append((curr_class,feature))\n",
    "print(len(feature_data))\n",
    "feature_data"
   ]
  },
  {
   "cell_type": "code",
   "execution_count": 16,
   "metadata": {},
   "outputs": [],
   "source": [
    "random.shuffle(feature_data)"
   ]
  },
  {
   "cell_type": "code",
   "execution_count": 17,
   "metadata": {},
   "outputs": [],
   "source": [
    "# Saving data\n",
    "with open('feature_data.pkl', 'wb') as f:\n",
    "    pickle.dump(feature_data, f)\n",
    "with open('classes.pkl', 'wb') as f:\n",
    "    pickle.dump(classes, f)"
   ]
  },
  {
   "cell_type": "code",
   "execution_count": null,
   "metadata": {},
   "outputs": [],
   "source": []
  }
 ],
 "metadata": {
  "kernelspec": {
   "display_name": "Python 3",
   "language": "python",
   "name": "python3"
  },
  "language_info": {
   "codemirror_mode": {
    "name": "ipython",
    "version": 3
   },
   "file_extension": ".py",
   "mimetype": "text/x-python",
   "name": "python",
   "nbconvert_exporter": "python",
   "pygments_lexer": "ipython3",
   "version": "3.7.3"
  }
 },
 "nbformat": 4,
 "nbformat_minor": 2
}
